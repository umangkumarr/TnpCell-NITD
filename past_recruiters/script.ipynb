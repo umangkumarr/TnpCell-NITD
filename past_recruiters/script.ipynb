{
 "cells": [
  {
   "cell_type": "code",
   "execution_count": 18,
   "metadata": {},
   "outputs": [],
   "source": [
    "import numpy as np \n",
    "import pandas as pd\n",
    "import openpyxl as opx"
   ]
  },
  {
   "cell_type": "code",
   "execution_count": null,
   "metadata": {},
   "outputs": [],
   "source": []
  },
  {
   "cell_type": "code",
   "execution_count": 62,
   "metadata": {},
   "outputs": [
    {
     "name": "stdout",
     "output_type": "stream",
     "text": [
      "[<Worksheet \"CSE\">, <Worksheet \"ECE\">, <Worksheet \"EEE\">, <Worksheet \"M.Tech CSE\">, <Worksheet \"M.Tech - ECE\">, <Worksheet \"M.Tech - VLSI\">, <Worksheet \"M.Tech - EEE\">, <Worksheet \"M.Tech - Mechanical\">]\n"
     ]
    }
   ],
   "source": [
    "print(workbook.worksheets)\n",
    "from collections import defaultdict\n",
    "\n",
    "def defautlValue():\n",
    "    return [0,0]\n",
    "\n",
    "btech = defaultdict(defautlValue)"
   ]
  },
  {
   "cell_type": "code",
   "execution_count": 64,
   "metadata": {},
   "outputs": [
    {
     "name": "stdout",
     "output_type": "stream",
     "text": [
      "7.5 [1, 0]\n",
      "9.0 [1, 0]\n",
      "HDFC  [9, 12.41]\n",
      "Enkash [2, 0]\n",
      "Biz2Credit [2, 15.0]\n",
      "Deloitte [22, 7.6]\n",
      "Caastle [3, 22.0]\n",
      "Samsung R&D Delhi [25, 15.5]\n",
      "Scry Analytics [12, 12.0]\n",
      "Celigo [5, 21.0]\n",
      "MAQ Software [2, 10.0]\n",
      "Reliance Infocomm [8, 8.5]\n",
      "ZS Associates [6, 13.656]\n",
      "Gemini [6, 10.0]\n",
      "Fareportal [4, 23.0]\n",
      "Optum [12, 14.499]\n",
      "MathWorks [3, 23.19]\n",
      "SHL India [4, 17.38]\n",
      "Arcesium [2, 36.0]\n",
      "Truminds [9, 11.0]\n",
      "Publicis Sapient [3, 12.47]\n",
      "Salesforce [3, 30.88]\n",
      "ThoughtSpot [2, 17.0]\n",
      "Siemens EDA [6, 20.2]\n",
      "Make My Trip [5, 25.5]\n",
      "ConveGenius [2, 15.0]\n",
      "CVent [1, 15.0]\n",
      "Skeps [4, 14.7]\n",
      "Tekion [6, 29.0]\n",
      "Goldman Sachs [2, 24.0]\n",
      "Merilytics [2, 8.4]\n",
      "EXL Services [6, 7.5]\n",
      "Samsung Engineering [1, 7.2]\n",
      "Ganit [3, 6.0]\n",
      "Cashfree [3, 32.0]\n",
      "Anakage [3, 7.0]\n",
      "Samsung R&D Banglore [3, 20.0]\n",
      "Goldmann Sachs [1, 24.0]\n",
      "Adobe [1, 55.7]\n",
      "Samsung R&D Noida [1, 14.5]\n",
      "Steradian Semiconductor [1, 23.0]\n",
      "Atlassian [1, 82.0]\n",
      "Calance [1, 13.0]\n",
      "Navi [1, 28.0]\n",
      "Nation with Namo [1, 19.0]\n",
      "FITJEE [1, 18.0]\n",
      "HDFC [1, 12.41]\n",
      "ServiceNow [1, 35.0]\n"
     ]
    }
   ],
   "source": [
    "# Student Wise Placement 2023\n",
    "\n",
    "workbook = opx.load_workbook(\"Student Wise Placement 2023.xlsx\")\n",
    "\n",
    "for sheet_no in range(0, 3):\n",
    "    sheet = workbook.worksheets[sheet_no]\n",
    "    skip = 0\n",
    "    for row in sheet.rows:\n",
    "        if skip == 0:\n",
    "            skip = 1\n",
    "            continue\n",
    "\n",
    "        for itr in range(4, 11, 2):\n",
    "            if row[0].value == None or row[itr].value == None :\n",
    "                continue\n",
    "\n",
    "            btech[row[itr].value][0] += 1\n",
    "            if row[itr+1].value == None:\n",
    "                continue\n",
    "            btech[row[itr].value][1] = max(btech[row[itr].value][1], row[itr+1].value)\n",
    "\n",
    "\n",
    "for pair in btech.keys():\n",
    "    print(pair, btech[pair])"
   ]
  },
  {
   "cell_type": "code",
   "execution_count": null,
   "metadata": {},
   "outputs": [],
   "source": [
    "# Student Wise Placement 2023\n",
    "\n",
    "workbook = opx.load_workbook(\"Student Wise Placement 2023.xlsx\")\n",
    "\n",
    "for sheet_no in range(0, 3):\n",
    "    sheet = workbook.worksheets[sheet_no]\n",
    "    skip = 0\n",
    "    for row in sheet.rows:\n",
    "        if skip == 0:\n",
    "            skip = 1\n",
    "            continue\n",
    "\n",
    "        for itr in range(4, 11, 2):\n",
    "            if row[0].value == None or row[itr].value == None :\n",
    "                continue\n",
    "\n",
    "            btech[row[itr].value][0] += 1\n",
    "            if row[itr+1].value == None:\n",
    "                continue\n",
    "            btech[row[itr].value][1] = max(btech[row[itr].value][1], row[itr+1].value)\n",
    "\n",
    "\n",
    "for pair in btech.keys():\n",
    "    print(pair, btech[pair])"
   ]
  }
 ],
 "metadata": {
  "kernelspec": {
   "display_name": "env",
   "language": "python",
   "name": "python3"
  },
  "language_info": {
   "codemirror_mode": {
    "name": "ipython",
    "version": 3
   },
   "file_extension": ".py",
   "mimetype": "text/x-python",
   "name": "python",
   "nbconvert_exporter": "python",
   "pygments_lexer": "ipython3",
   "version": "3.9.6"
  },
  "orig_nbformat": 4,
  "vscode": {
   "interpreter": {
    "hash": "cd7eac858e1384375bf6e34d67937d553dc6c9704bbea74d463bd4bdb8c8d5d4"
   }
  }
 },
 "nbformat": 4,
 "nbformat_minor": 2
}
